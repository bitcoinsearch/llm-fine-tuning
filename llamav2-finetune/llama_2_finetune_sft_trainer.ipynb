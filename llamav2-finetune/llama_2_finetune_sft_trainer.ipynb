{
  "nbformat": 4,
  "nbformat_minor": 0,
  "metadata": {
    "colab": {
      "provenance": [],
      "machine_shape": "hm",
      "gpuType": "V100",
      "toc_visible": true
    },
    "kernelspec": {
      "name": "python3",
      "display_name": "Python 3"
    },
    "language_info": {
      "name": "python"
    },
    "accelerator": "GPU",
    "widgets": {
      "application/vnd.jupyter.widget-state+json": {
        "6d6eef93cadb46a1b3e6ddb19d6743e3": {
          "model_module": "@jupyter-widgets/controls",
          "model_name": "HBoxModel",
          "model_module_version": "1.5.0",
          "state": {
            "_dom_classes": [],
            "_model_module": "@jupyter-widgets/controls",
            "_model_module_version": "1.5.0",
            "_model_name": "HBoxModel",
            "_view_count": null,
            "_view_module": "@jupyter-widgets/controls",
            "_view_module_version": "1.5.0",
            "_view_name": "HBoxView",
            "box_style": "",
            "children": [
              "IPY_MODEL_5f8344f588804ca5b949d6196966d98e",
              "IPY_MODEL_626041bc77a64a5cbe4b46a82ed86894",
              "IPY_MODEL_6501a96f6d6f4755ad140e271d4e3b59"
            ],
            "layout": "IPY_MODEL_cabca3741f61447ea5c6c345781a6250"
          }
        },
        "5f8344f588804ca5b949d6196966d98e": {
          "model_module": "@jupyter-widgets/controls",
          "model_name": "HTMLModel",
          "model_module_version": "1.5.0",
          "state": {
            "_dom_classes": [],
            "_model_module": "@jupyter-widgets/controls",
            "_model_module_version": "1.5.0",
            "_model_name": "HTMLModel",
            "_view_count": null,
            "_view_module": "@jupyter-widgets/controls",
            "_view_module_version": "1.5.0",
            "_view_name": "HTMLView",
            "description": "",
            "description_tooltip": null,
            "layout": "IPY_MODEL_a771df6dc68341e58f21971f136050d9",
            "placeholder": "​",
            "style": "IPY_MODEL_3480fdab98554978a83b275bfb6c88a9",
            "value": "Loading checkpoint shards: 100%"
          }
        },
        "626041bc77a64a5cbe4b46a82ed86894": {
          "model_module": "@jupyter-widgets/controls",
          "model_name": "FloatProgressModel",
          "model_module_version": "1.5.0",
          "state": {
            "_dom_classes": [],
            "_model_module": "@jupyter-widgets/controls",
            "_model_module_version": "1.5.0",
            "_model_name": "FloatProgressModel",
            "_view_count": null,
            "_view_module": "@jupyter-widgets/controls",
            "_view_module_version": "1.5.0",
            "_view_name": "ProgressView",
            "bar_style": "success",
            "description": "",
            "description_tooltip": null,
            "layout": "IPY_MODEL_7db481df3c834034b56686c063da006f",
            "max": 2,
            "min": 0,
            "orientation": "horizontal",
            "style": "IPY_MODEL_bc81e5518fa84736bddf2bcbd191ede7",
            "value": 2
          }
        },
        "6501a96f6d6f4755ad140e271d4e3b59": {
          "model_module": "@jupyter-widgets/controls",
          "model_name": "HTMLModel",
          "model_module_version": "1.5.0",
          "state": {
            "_dom_classes": [],
            "_model_module": "@jupyter-widgets/controls",
            "_model_module_version": "1.5.0",
            "_model_name": "HTMLModel",
            "_view_count": null,
            "_view_module": "@jupyter-widgets/controls",
            "_view_module_version": "1.5.0",
            "_view_name": "HTMLView",
            "description": "",
            "description_tooltip": null,
            "layout": "IPY_MODEL_79c59ef4f4654604a7acdbc62e6a7e43",
            "placeholder": "​",
            "style": "IPY_MODEL_fcf7f82e79ae4c49a67d0c47bb6c8a62",
            "value": " 2/2 [00:27&lt;00:00, 11.95s/it]"
          }
        },
        "cabca3741f61447ea5c6c345781a6250": {
          "model_module": "@jupyter-widgets/base",
          "model_name": "LayoutModel",
          "model_module_version": "1.2.0",
          "state": {
            "_model_module": "@jupyter-widgets/base",
            "_model_module_version": "1.2.0",
            "_model_name": "LayoutModel",
            "_view_count": null,
            "_view_module": "@jupyter-widgets/base",
            "_view_module_version": "1.2.0",
            "_view_name": "LayoutView",
            "align_content": null,
            "align_items": null,
            "align_self": null,
            "border": null,
            "bottom": null,
            "display": null,
            "flex": null,
            "flex_flow": null,
            "grid_area": null,
            "grid_auto_columns": null,
            "grid_auto_flow": null,
            "grid_auto_rows": null,
            "grid_column": null,
            "grid_gap": null,
            "grid_row": null,
            "grid_template_areas": null,
            "grid_template_columns": null,
            "grid_template_rows": null,
            "height": null,
            "justify_content": null,
            "justify_items": null,
            "left": null,
            "margin": null,
            "max_height": null,
            "max_width": null,
            "min_height": null,
            "min_width": null,
            "object_fit": null,
            "object_position": null,
            "order": null,
            "overflow": null,
            "overflow_x": null,
            "overflow_y": null,
            "padding": null,
            "right": null,
            "top": null,
            "visibility": null,
            "width": null
          }
        },
        "a771df6dc68341e58f21971f136050d9": {
          "model_module": "@jupyter-widgets/base",
          "model_name": "LayoutModel",
          "model_module_version": "1.2.0",
          "state": {
            "_model_module": "@jupyter-widgets/base",
            "_model_module_version": "1.2.0",
            "_model_name": "LayoutModel",
            "_view_count": null,
            "_view_module": "@jupyter-widgets/base",
            "_view_module_version": "1.2.0",
            "_view_name": "LayoutView",
            "align_content": null,
            "align_items": null,
            "align_self": null,
            "border": null,
            "bottom": null,
            "display": null,
            "flex": null,
            "flex_flow": null,
            "grid_area": null,
            "grid_auto_columns": null,
            "grid_auto_flow": null,
            "grid_auto_rows": null,
            "grid_column": null,
            "grid_gap": null,
            "grid_row": null,
            "grid_template_areas": null,
            "grid_template_columns": null,
            "grid_template_rows": null,
            "height": null,
            "justify_content": null,
            "justify_items": null,
            "left": null,
            "margin": null,
            "max_height": null,
            "max_width": null,
            "min_height": null,
            "min_width": null,
            "object_fit": null,
            "object_position": null,
            "order": null,
            "overflow": null,
            "overflow_x": null,
            "overflow_y": null,
            "padding": null,
            "right": null,
            "top": null,
            "visibility": null,
            "width": null
          }
        },
        "3480fdab98554978a83b275bfb6c88a9": {
          "model_module": "@jupyter-widgets/controls",
          "model_name": "DescriptionStyleModel",
          "model_module_version": "1.5.0",
          "state": {
            "_model_module": "@jupyter-widgets/controls",
            "_model_module_version": "1.5.0",
            "_model_name": "DescriptionStyleModel",
            "_view_count": null,
            "_view_module": "@jupyter-widgets/base",
            "_view_module_version": "1.2.0",
            "_view_name": "StyleView",
            "description_width": ""
          }
        },
        "7db481df3c834034b56686c063da006f": {
          "model_module": "@jupyter-widgets/base",
          "model_name": "LayoutModel",
          "model_module_version": "1.2.0",
          "state": {
            "_model_module": "@jupyter-widgets/base",
            "_model_module_version": "1.2.0",
            "_model_name": "LayoutModel",
            "_view_count": null,
            "_view_module": "@jupyter-widgets/base",
            "_view_module_version": "1.2.0",
            "_view_name": "LayoutView",
            "align_content": null,
            "align_items": null,
            "align_self": null,
            "border": null,
            "bottom": null,
            "display": null,
            "flex": null,
            "flex_flow": null,
            "grid_area": null,
            "grid_auto_columns": null,
            "grid_auto_flow": null,
            "grid_auto_rows": null,
            "grid_column": null,
            "grid_gap": null,
            "grid_row": null,
            "grid_template_areas": null,
            "grid_template_columns": null,
            "grid_template_rows": null,
            "height": null,
            "justify_content": null,
            "justify_items": null,
            "left": null,
            "margin": null,
            "max_height": null,
            "max_width": null,
            "min_height": null,
            "min_width": null,
            "object_fit": null,
            "object_position": null,
            "order": null,
            "overflow": null,
            "overflow_x": null,
            "overflow_y": null,
            "padding": null,
            "right": null,
            "top": null,
            "visibility": null,
            "width": null
          }
        },
        "bc81e5518fa84736bddf2bcbd191ede7": {
          "model_module": "@jupyter-widgets/controls",
          "model_name": "ProgressStyleModel",
          "model_module_version": "1.5.0",
          "state": {
            "_model_module": "@jupyter-widgets/controls",
            "_model_module_version": "1.5.0",
            "_model_name": "ProgressStyleModel",
            "_view_count": null,
            "_view_module": "@jupyter-widgets/base",
            "_view_module_version": "1.2.0",
            "_view_name": "StyleView",
            "bar_color": null,
            "description_width": ""
          }
        },
        "79c59ef4f4654604a7acdbc62e6a7e43": {
          "model_module": "@jupyter-widgets/base",
          "model_name": "LayoutModel",
          "model_module_version": "1.2.0",
          "state": {
            "_model_module": "@jupyter-widgets/base",
            "_model_module_version": "1.2.0",
            "_model_name": "LayoutModel",
            "_view_count": null,
            "_view_module": "@jupyter-widgets/base",
            "_view_module_version": "1.2.0",
            "_view_name": "LayoutView",
            "align_content": null,
            "align_items": null,
            "align_self": null,
            "border": null,
            "bottom": null,
            "display": null,
            "flex": null,
            "flex_flow": null,
            "grid_area": null,
            "grid_auto_columns": null,
            "grid_auto_flow": null,
            "grid_auto_rows": null,
            "grid_column": null,
            "grid_gap": null,
            "grid_row": null,
            "grid_template_areas": null,
            "grid_template_columns": null,
            "grid_template_rows": null,
            "height": null,
            "justify_content": null,
            "justify_items": null,
            "left": null,
            "margin": null,
            "max_height": null,
            "max_width": null,
            "min_height": null,
            "min_width": null,
            "object_fit": null,
            "object_position": null,
            "order": null,
            "overflow": null,
            "overflow_x": null,
            "overflow_y": null,
            "padding": null,
            "right": null,
            "top": null,
            "visibility": null,
            "width": null
          }
        },
        "fcf7f82e79ae4c49a67d0c47bb6c8a62": {
          "model_module": "@jupyter-widgets/controls",
          "model_name": "DescriptionStyleModel",
          "model_module_version": "1.5.0",
          "state": {
            "_model_module": "@jupyter-widgets/controls",
            "_model_module_version": "1.5.0",
            "_model_name": "DescriptionStyleModel",
            "_view_count": null,
            "_view_module": "@jupyter-widgets/base",
            "_view_module_version": "1.2.0",
            "_view_name": "StyleView",
            "description_width": ""
          }
        }
      }
    }
  },
  "cells": [
    {
      "cell_type": "code",
      "execution_count": null,
      "metadata": {
        "id": "nYzOcEuQQ9m_"
      },
      "outputs": [],
      "source": [
        "import os\n",
        "os.environ['KAGGLE_USERNAME'] = \"urvishp80\"\n",
        "os.environ['KAGGLE_KEY'] = \"efaeb62d2fd8a94891f65cde49c5d924\""
      ]
    },
    {
      "cell_type": "code",
      "source": [
        "!kaggle datasets download -d lizhecheng/llama2-7b-hf\n",
        "!unzip llama2-7b-hf.zip -d llama2-7b-hf"
      ],
      "metadata": {
        "colab": {
          "base_uri": "https://localhost:8080/"
        },
        "id": "FqhK5SPVC6r2",
        "outputId": "896bf067-d24a-435c-b900-c4c1201463ec"
      },
      "execution_count": null,
      "outputs": [
        {
          "output_type": "stream",
          "name": "stdout",
          "text": [
            "Downloading llama2-7b-hf.zip to /content\n",
            "100% 9.66G/9.66G [04:09<00:00, 43.5MB/s]\n",
            "100% 9.66G/9.66G [04:09<00:00, 41.6MB/s]\n",
            "Archive:  llama2-7b-hf.zip\n",
            "  inflating: llama2-7b-hf/Llama2-7b-hf/config.json  \n",
            "  inflating: llama2-7b-hf/Llama2-7b-hf/generation_config.json  \n",
            "  inflating: llama2-7b-hf/Llama2-7b-hf/pytorch_model-00001-of-00002.bin  \n",
            "  inflating: llama2-7b-hf/Llama2-7b-hf/pytorch_model-00002-of-00002.bin  \n",
            "  inflating: llama2-7b-hf/Llama2-7b-hf/pytorch_model.bin.index.json  \n",
            "  inflating: llama2-7b-hf/Llama2-7b-hf/special_tokens_map.json  \n",
            "  inflating: llama2-7b-hf/Llama2-7b-hf/tokenizer.json  \n",
            "  inflating: llama2-7b-hf/Llama2-7b-hf/tokenizer.model  \n",
            "  inflating: llama2-7b-hf/Llama2-7b-hf/tokenizer_config.json  \n"
          ]
        }
      ]
    },
    {
      "cell_type": "code",
      "source": [
        "!pip install datasets -q\n",
        "!pip install peft -q\n",
        "!pip install transformers -q\n",
        "!pip install trl -q\n",
        "!pip install bitsandbytes -q\n",
        "!pip install accelerate -q"
      ],
      "metadata": {
        "colab": {
          "base_uri": "https://localhost:8080/"
        },
        "id": "M43Ucx1EC8LT",
        "outputId": "1244e2e9-99e0-4143-c3eb-b6ec67e6bf44"
      },
      "execution_count": null,
      "outputs": [
        {
          "output_type": "stream",
          "name": "stdout",
          "text": [
            "\u001b[2K     \u001b[90m━━━━━━━━━━━━━━━━━━━━━━━━━━━━━━━━━━━━━━━\u001b[0m \u001b[32m519.3/519.3 kB\u001b[0m \u001b[31m6.9 MB/s\u001b[0m eta \u001b[36m0:00:00\u001b[0m\n",
            "\u001b[2K     \u001b[90m━━━━━━━━━━━━━━━━━━━━━━━━━━━━━━━━━━━━━━━\u001b[0m \u001b[32m115.3/115.3 kB\u001b[0m \u001b[31m9.1 MB/s\u001b[0m eta \u001b[36m0:00:00\u001b[0m\n",
            "\u001b[2K     \u001b[90m━━━━━━━━━━━━━━━━━━━━━━━━━━━━━━━━━━━━━━\u001b[0m \u001b[32m194.1/194.1 kB\u001b[0m \u001b[31m11.6 MB/s\u001b[0m eta \u001b[36m0:00:00\u001b[0m\n",
            "\u001b[2K     \u001b[90m━━━━━━━━━━━━━━━━━━━━━━━━━━━━━━━━━━━━━━\u001b[0m \u001b[32m134.8/134.8 kB\u001b[0m \u001b[31m10.7 MB/s\u001b[0m eta \u001b[36m0:00:00\u001b[0m\n",
            "\u001b[2K     \u001b[90m━━━━━━━━━━━━━━━━━━━━━━━━━━━━━━━━━━━━━━\u001b[0m \u001b[32m268.8/268.8 kB\u001b[0m \u001b[31m14.1 MB/s\u001b[0m eta \u001b[36m0:00:00\u001b[0m\n",
            "\u001b[2K     \u001b[90m━━━━━━━━━━━━━━━━━━━━━━━━━━━━━━━━━━━━━━━━\u001b[0m \u001b[32m85.6/85.6 kB\u001b[0m \u001b[31m2.6 MB/s\u001b[0m eta \u001b[36m0:00:00\u001b[0m\n",
            "\u001b[2K     \u001b[90m━━━━━━━━━━━━━━━━━━━━━━━━━━━━━━━━━━━━━━━━\u001b[0m \u001b[32m7.5/7.5 MB\u001b[0m \u001b[31m31.2 MB/s\u001b[0m eta \u001b[36m0:00:00\u001b[0m\n",
            "\u001b[2K     \u001b[90m━━━━━━━━━━━━━━━━━━━━━━━━━━━━━━━━━━━━━━\u001b[0m \u001b[32m251.2/251.2 kB\u001b[0m \u001b[31m28.5 MB/s\u001b[0m eta \u001b[36m0:00:00\u001b[0m\n",
            "\u001b[2K     \u001b[90m━━━━━━━━━━━━━━━━━━━━━━━━━━━━━━━━━━━━━━━━\u001b[0m \u001b[32m1.3/1.3 MB\u001b[0m \u001b[31m57.8 MB/s\u001b[0m eta \u001b[36m0:00:00\u001b[0m\n",
            "\u001b[2K     \u001b[90m━━━━━━━━━━━━━━━━━━━━━━━━━━━━━━━━━━━━━━━━\u001b[0m \u001b[32m7.8/7.8 MB\u001b[0m \u001b[31m89.6 MB/s\u001b[0m eta \u001b[36m0:00:00\u001b[0m\n",
            "\u001b[2K     \u001b[90m━━━━━━━━━━━━━━━━━━━━━━━━━━━━━━━━━━━━━━━\u001b[0m \u001b[32m118.0/118.0 kB\u001b[0m \u001b[31m3.2 MB/s\u001b[0m eta \u001b[36m0:00:00\u001b[0m\n",
            "\u001b[2K     \u001b[90m━━━━━━━━━━━━━━━━━━━━━━━━━━━━━━━━━━━━━━━━\u001b[0m \u001b[32m92.6/92.6 MB\u001b[0m \u001b[31m19.5 MB/s\u001b[0m eta \u001b[36m0:00:00\u001b[0m\n",
            "\u001b[?25h"
          ]
        }
      ]
    },
    {
      "cell_type": "code",
      "source": [
        "# using single gpu for this case\n",
        "\n",
        "import os\n",
        "os.environ[\"CUDA_DEVICE_ORDER\"]=\"PCI_BUS_ID\"\n",
        "os.environ[\"CUDA_VISIBLE_DEVICES\"]=\"0\""
      ],
      "metadata": {
        "id": "nIPu4AMlC-Zz"
      },
      "execution_count": null,
      "outputs": []
    },
    {
      "cell_type": "code",
      "source": [
        "import torch\n",
        "import numpy as np\n",
        "from dataclasses import dataclass, field\n",
        "from typing import Optional\n",
        "import torch\n",
        "\n",
        "from datasets import load_dataset, Dataset\n",
        "from peft import (LoraConfig, prepare_model_for_kbit_training, get_peft_model,\n",
        "                  PeftModel, PeftConfig, TaskType, PeftModelForSequenceClassification)\n",
        "from tqdm.auto import tqdm\n",
        "from transformers import (\n",
        "    AutoModelForSequenceClassification, AutoModelForCausalLM, AutoModel,\n",
        "    AutoTokenizer,\n",
        "    BitsAndBytesConfig,\n",
        "    HfArgumentParser,\n",
        "    TrainingArguments,\n",
        "    DataCollatorWithPadding,\n",
        "    AutoModelForMultipleChoice\n",
        ")\n",
        "from trl import RewardTrainer, SFTTrainer, DataCollatorForCompletionOnlyLM\n",
        "\n",
        "import random\n",
        "import os\n",
        "import gc\n",
        "import pandas as pd\n",
        "pd.set_option('display.max_colwidth', None)\n",
        "tqdm.pandas()"
      ],
      "metadata": {
        "id": "GLTEpnhZDBDj"
      },
      "execution_count": null,
      "outputs": []
    },
    {
      "cell_type": "code",
      "source": [
        "class CFG:\n",
        "    base_model = \"/kaggle/input/huggingfacedebertav3variants/deberta-v3-large\"\n",
        "    seed = 42"
      ],
      "metadata": {
        "id": "U4eNarAKDDnS"
      },
      "execution_count": null,
      "outputs": []
    },
    {
      "cell_type": "code",
      "source": [
        "def set_seed(seed = int):\n",
        "    '''Sets the seed of the entire notebook so results are the same every time we run.\n",
        "    This is for REPRODUCIBILITY.'''\n",
        "    np.random.seed(seed)\n",
        "    random_state = np.random.RandomState(seed)\n",
        "    random.seed(seed)\n",
        "    torch.manual_seed(seed)\n",
        "    torch.cuda.manual_seed(seed)\n",
        "    torch.backends.cudnn.deterministic = True\n",
        "    torch.backends.cudnn.benchmark = False\n",
        "    os.environ['PYTHONHASHSEED'] = str(seed)\n",
        "    return random_state\n",
        "\n",
        "\n",
        "random_state = set_seed(CFG.seed)"
      ],
      "metadata": {
        "id": "czKnvRaLDE7T"
      },
      "execution_count": null,
      "outputs": []
    },
    {
      "cell_type": "markdown",
      "source": [
        "### Load Model and Tokenizer"
      ],
      "metadata": {
        "id": "1zyn78B9DPEC"
      }
    },
    {
      "cell_type": "code",
      "source": [
        "# change model_name to the model of your choice.\n",
        "# This can be either name of the model on huggingface (requires internet) or path to the model\n",
        "model_name = \"/content/llama2-7b-hf/Llama2-7b-hf\"\n",
        "\n",
        "bnb_config = BitsAndBytesConfig(\n",
        "    load_in_4bit=True,\n",
        "    bnb_4bit_use_double_quant=True,\n",
        "    bnb_4bit_quant_type=\"nf4\",\n",
        "    bnb_4bit_compute_dtyp=torch.bfloat16,\n",
        ")\n",
        "\n",
        "model = AutoModelForCausalLM.from_pretrained(\n",
        "    model_name,\n",
        "    quantization_config=bnb_config,\n",
        "    trust_remote_code=True,\n",
        "    torch_dtype=torch.bfloat16,\n",
        ")\n",
        "# this should be set as False for finetuning\n",
        "model.config.use_cache = False\n",
        "\n",
        "tokenizer = AutoTokenizer.from_pretrained(model_name, trust_remote_code=True)\n",
        "tokenizer.pad_token = tokenizer.eos_token\n",
        "model.config.pad_token_id = model.config.eos_token_id"
      ],
      "metadata": {
        "colab": {
          "base_uri": "https://localhost:8080/",
          "height": 138,
          "referenced_widgets": [
            "6d6eef93cadb46a1b3e6ddb19d6743e3",
            "5f8344f588804ca5b949d6196966d98e",
            "626041bc77a64a5cbe4b46a82ed86894",
            "6501a96f6d6f4755ad140e271d4e3b59",
            "cabca3741f61447ea5c6c345781a6250",
            "a771df6dc68341e58f21971f136050d9",
            "3480fdab98554978a83b275bfb6c88a9",
            "7db481df3c834034b56686c063da006f",
            "bc81e5518fa84736bddf2bcbd191ede7",
            "79c59ef4f4654604a7acdbc62e6a7e43",
            "fcf7f82e79ae4c49a67d0c47bb6c8a62"
          ]
        },
        "id": "2GL_RCNFDF8T",
        "outputId": "6afb85e2-8101-4a2c-9a6f-42d6b4593b13"
      },
      "execution_count": null,
      "outputs": [
        {
          "output_type": "display_data",
          "data": {
            "text/plain": [
              "Loading checkpoint shards:   0%|          | 0/2 [00:00<?, ?it/s]"
            ],
            "application/vnd.jupyter.widget-view+json": {
              "version_major": 2,
              "version_minor": 0,
              "model_id": "6d6eef93cadb46a1b3e6ddb19d6743e3"
            }
          },
          "metadata": {}
        },
        {
          "output_type": "stream",
          "name": "stderr",
          "text": [
            "/usr/local/lib/python3.10/dist-packages/transformers/generation/configuration_utils.py:362: UserWarning: `do_sample` is set to `False`. However, `temperature` is set to `0.9` -- this flag is only used in sample-based generation modes. You should set `do_sample=True` or unset `temperature`. This was detected when initializing the generation config instance, which means the corresponding file may hold incorrect parameterization and should be fixed.\n",
            "  warnings.warn(\n",
            "/usr/local/lib/python3.10/dist-packages/transformers/generation/configuration_utils.py:367: UserWarning: `do_sample` is set to `False`. However, `top_p` is set to `0.6` -- this flag is only used in sample-based generation modes. You should set `do_sample=True` or unset `top_p`. This was detected when initializing the generation config instance, which means the corresponding file may hold incorrect parameterization and should be fixed.\n",
            "  warnings.warn(\n"
          ]
        }
      ]
    },
    {
      "cell_type": "markdown",
      "source": [
        "### Preprocess Data"
      ],
      "metadata": {
        "id": "_pKYhOihDTk_"
      }
    },
    {
      "cell_type": "code",
      "source": [
        "df = pd.read_csv(\"/content/data.csv\")\n",
        "df.head()"
      ],
      "metadata": {
        "colab": {
          "base_uri": "https://localhost:8080/",
          "height": 1000
        },
        "id": "M9H-0Y06DI-O",
        "outputId": "f948b94f-a9ed-490c-ae21-5a671d13c713"
      },
      "execution_count": null,
      "outputs": [
        {
          "output_type": "execute_result",
          "data": {
            "text/plain": [
              "                                                                                                                                                                                                                                                                                                                                                                                                                                                                                                                                                                                                                                                                                                                                                                                                                                                                                                                                                                                                                                                                                                                                                                                                                                                                                                                                                                                                                                                                                                                                                                                                                                                                                                                                                                                                                                                                                                                                                                                                                                                                                                                                                                                                                                                                                                                                                                                                                                                                                                                                                                                                                                                                                                                                                                                                                                                                                                                                                                                                                                                                                                                                                                                                                                                                                                                                                                                                                                                                                                                                                                                                                                                                                                                                                                                                                                                                                                                                                                                                                                                                                                                                                                                                                                                                                                                                                                                                                                                                                                                                                                                                                                                                                                                                                                                                                                                                                                                                                                                                                                                                                                                                                                                                                                                                                                                                                                                                                                                                                                                text\n",
              "0                                                                                                                                                                                                                                                                                                                                                                                                                                                                                                                                                                                                                                                                                                                                                                                                                                                                                                                                                                                                                                                                                                                                                                                                                                                                                  <s><<SYS>>\\nYou are an intelligent assistant.\\n<</SYS>>\\n\\n</s> [INST] ### Input: Suppose you are a programmer and you are enriched by programming knowledge. You will be going through other programmers mail sent to you and you will be extracting all the important information out of the mail and composing a blog post. Even if the mail is divided into parts and parts, your extraction summary should not be in bullet points. It should be in multiple paragraphs. I repeat, never in bullet points. You have to follow some rules while giving a detailed summary. \\n                    The rules are below:\\n                        1. While extracting, avoid using phrases referring to the context. Instead, directly present the information or points covered.  Do not introduce sentences with phrases like: \"The context discusses...\", \"In this context...\" or \"The context covers...\" or \"The context questions...\" etc\\n                        2. The summary tone should be formal and full of information.\\n                        3. Add spaces after using punctuation and follow all the grammatical rules.\\n                        4. Try to retain all the links provided and use them in proper manner at proper place.\\n                        5. The farewell part of the email should be completely ignored.\\n                        6. Ensure that summary is not simply a rephrase of the original content with minor word changes, but a restructured and simplified rendition of the main points.\\n                        7. Most importantly, this extracted information should be relative of the size of the email. If it is a bigger email, the extracted summary can be longer than a very short email. \\n                        Context: Maybe the anonymous credentials approach from [2] could use credentials loaded with sats?\\n\\n\\n                        ### Output: [/INST] In a recent email, the sender mentioned the possibility of using anonymous credentials loaded with sats as part of the anonymous credentials approach discussed in reference [2]. The idea is to leverage the use of sats (short for satoshis) within the context of anonymous credentials. While the email does not provide further details or explanations, it raises an interesting concept that could potentially enhance the functionality and security of anonymous credentials.Anonymous credentials are a cryptographic tool used to prove certain statements about oneself without revealing any additional information. They enable individuals to authenticate themselves or assert specific attributes without compromising their privacy. The approach proposed in reference [2] explores the use of anonymous credentials in a broader context, possibly in relation to blockchain technology and decentralized systems.By introducing the notion of loading credentials with sats, the email suggests incorporating the use of Bitcoin's smallest unit, satoshis, into the anonymous credentials framework. This integration could offer several advantages, such as increased flexibility and efficiency in transactional processes. However, without further details provided in the email, it is difficult to fully grasp the implications and potential benefits of this approach.It is worth noting that referencing external sources, like reference [2], indicates that there is existing research or documentation on the topic. In this case, it would be beneficial to explore the contents of reference [2] to gain a more comprehensive understanding of the anonymous credentials approach and its potential integration with sats. Unfortunately, the email does not provide any direct links or additional information regarding reference [2].In conclusion, the email briefly touches upon the idea of using anonymous credentials loaded with sats, potentially as part of the approach discussed in reference [2]. While the concept is intriguing, the lack of detailed information limits our understanding of the exact implications and benefits. Further exploration of reference [2] and related literature might shed more light on this topic.\n",
              "1                                                                                                                                                                                                                                                                                                                                                                                                                                                                                                                                                                                                                                                                                                                                                                                                                                                                                                                                                                                                                                                                                                                                                                                                                                                                                                                                                                                                                                                                                                                                                                                                                                                                                                                                                                                                                                                                                                                                                                                                                                                                                                                                                                                                                                                                                                                                                                                                                                                                                                                                                                                                                                                                                                                                                    <s><<SYS>>\\nYou are an intelligent assistant.\\n<</SYS>>\\n\\n</s> [INST] ### Input: Suppose you are a programmer and you are enriched by programming knowledge. You will be going through other programmers mail sent to you and you will be extracting all the important information out of the mail and composing a blog post. Even if the mail is divided into parts and parts, your extraction summary should not be in bullet points. It should be in multiple paragraphs. I repeat, never in bullet points. You have to follow some rules while giving a detailed summary. \\n                    The rules are below:\\n                        1. While extracting, avoid using phrases referring to the context. Instead, directly present the information or points covered.  Do not introduce sentences with phrases like: \"The context discusses...\", \"In this context...\" or \"The context covers...\" or \"The context questions...\" etc\\n                        2. The summary tone should be formal and full of information.\\n                        3. Add spaces after using punctuation and follow all the grammatical rules.\\n                        4. Try to retain all the links provided and use them in proper manner at proper place.\\n                        5. The farewell part of the email should be completely ignored.\\n                        6. Ensure that summary is not simply a rephrase of the original content with minor word changes, but a restructured and simplified rendition of the main points.\\n                        7. Most importantly, this extracted information should be relative of the size of the email. If it is a bigger email, the extracted summary can be longer than a very short email. \\n                        Context: Hey Matt, Great work on finding this issue, thoroughly testing it against implementations, and on the follow-up you did after reporting this to the various teams. We all agree that having more people spending time poking at the code to find issues is very beneficial for the project. I hope your work will encourage more people to work on similar research! Protecting p2p networks against DoS vectors is a hard task, and the more eyes on the project, the better. Thanks, Bastien écrit :\\n\\n\\n                        ### Output: [/INST] Matt has been praised for his work in finding an issue, conducting thorough testing, and following up with various teams. The email emphasizes the importance of having more people contribute to finding issues in order to benefit the project. It acknowledges that protecting p2p networks against DoS vectors is challenging and highlights the value of having more people involved in the project.\n",
              "2                                                                                                                                                                                                                                                                                                                                                                                                                                                                                                                                                                                                                                                                                                                                                                                                                                                                                                                                                                                                                                                                                                                                                                                                                                                                                                                                                                                                                                                                                                                                                     <s><<SYS>>\\nYou are an intelligent assistant.\\n<</SYS>>\\n\\n</s> [INST] ### Input: Suppose you are a programmer and you are enriched by programming knowledge. You will be going through other programmers mail sent to you and you will be extracting all the important information out of the mail and composing a blog post. Even if the mail is divided into parts and parts, your extraction summary should not be in bullet points. It should be in multiple paragraphs. I repeat, never in bullet points. You have to follow some rules while giving a detailed summary. \\n                    The rules are below:\\n                        1. While extracting, avoid using phrases referring to the context. Instead, directly present the information or points covered.  Do not introduce sentences with phrases like: \"The context discusses...\", \"In this context...\" or \"The context covers...\" or \"The context questions...\" etc\\n                        2. The summary tone should be formal and full of information.\\n                        3. Add spaces after using punctuation and follow all the grammatical rules.\\n                        4. Try to retain all the links provided and use them in proper manner at proper place.\\n                        5. The farewell part of the email should be completely ignored.\\n                        6. Ensure that summary is not simply a rephrase of the original content with minor word changes, but a restructured and simplified rendition of the main points.\\n                        7. Most importantly, this extracted information should be relative of the size of the email. If it is a bigger email, the extracted summary can be longer than a very short email. \\n                        Context: Good morning Mr Nuclear, The major difference here is that for PoW, it is impossible to create a \"sybil attack\" where you only need to spin up multiple nodes on AWS containers, each with its own identity. For PoW, every such node requires its own continuous hashpower; on Lightning, each such node can be generated by simply incrementing a 256-bit number. Thus, the honest majority assumption can **only** be relied on if you have ***some*** sybil-resistance. PoW *is* the sybil-resistance that Bitcoin uses. In short: you can only reason \"I think, therefore I am\", but you cannot from there derive that others exist; you MUST assume that there are only two entities: yourself, and the rest of the universe. Without any sybil-resistance mechanism, it is entirely possible for me to run multiple nodes, then vote you out of your funds. There is a reason why every non-custodial trust-minimized multiparticipant offchain mechanism requires n-of-n. Regards, ZmnSCPxj\\n\\n\\n                        ### Output: [/INST] The email discusses the major difference between Proof of Work (PoW) and Lightning Network in terms of sybil attacks. It explains that for PoW, it is impossible to create a sybil attack by spinning up multiple nodes on AWS containers with their own identity. This is because every node in PoW requires its own continuous hashpower. On the other hand, in Lightning Network, each node can be generated by simply incrementing a 256-bit number.The email emphasizes that the honest majority assumption can only be relied upon if there is some form of sybil-resistance. PoW itself acts as the sybil-resistance mechanism used in Bitcoin. Without any sybil-resistance mechanism, it is entirely possible for someone to run multiple nodes and vote others out of their funds.The author concludes by stating that there is a reason why every non-custodial trust-minimized multiparticipant offchain mechanism requires n-of-n, highlighting the importance of having a sybil-resistance mechanism in place.(Note: The farewell part of the email has been ignored as per the given rules.)\n",
              "3                                                                                                                                                                                                                                                                                                                                                                                                                                                                                                                                                                                                                                                                                                                                                                                                                                                                                                                                                                                   <s><<SYS>>\\nYou are an intelligent assistant.\\n<</SYS>>\\n\\n</s> [INST] ### Input: Suppose you are a programmer and you are enriched by programming knowledge. You will be going through other programmers mail sent to you and you will be extracting all the important information out of the mail and composing a blog post. Even if the mail is divided into parts and parts, your extraction summary should not be in bullet points. It should be in multiple paragraphs. I repeat, never in bullet points. You have to follow some rules while giving a detailed summary. \\n                    The rules are below:\\n                        1. While extracting, avoid using phrases referring to the context. Instead, directly present the information or points covered.  Do not introduce sentences with phrases like: \"The context discusses...\", \"In this context...\" or \"The context covers...\" or \"The context questions...\" etc\\n                        2. The summary tone should be formal and full of information.\\n                        3. Add spaces after using punctuation and follow all the grammatical rules.\\n                        4. Try to retain all the links provided and use them in proper manner at proper place.\\n                        5. The farewell part of the email should be completely ignored.\\n                        6. Ensure that summary is not simply a rephrase of the original content with minor word changes, but a restructured and simplified rendition of the main points.\\n                        7. Most importantly, this extracted information should be relative of the size of the email. If it is a bigger email, the extracted summary can be longer than a very short email. \\n                        Context: Hi Rene, defend against a large botnet and suggest that anonymous credentials [2] among other techniques should be investigated. bip154) was discussed during Zurich lightning event back in 2021, and discarded exactly on this motivation that it wouldn't fit the hashrate capabilities of a large botnet in the real-world of mobile-first client with constrained CPUs. The Tor scheme has been aware on my side since a while. Since then, I've been working on an implementation of Privacy Pass (quoted in the Kadianakis mail) dubbed Staking Credentials [0]. Primarily replacing cryptosystems by elliptic curve based rather than blinded RSA like the IETF draft [1] and with credentials loaded with sats as a user challenge. I'm currently working on a Rust implementation architecture-agnostic to fit the Lightning Network and Nostr-based services/routing purposes [2] [3]. Looking forward to a game-theory formalization of this system dynamics. Best, Antoine https://bitcoinops.org/en/newsletters/2022/11/30/reputation-credentials-proposal-to-mitigate-ln-jamming-attacks https://datatracker.ietf.org/doc/html/draft-irtf-cfrg-rsa-blind-signatures-03 écrit :\\n\\n\\n                        ### Output: [/INST] In the email, Antoine discusses his work on defending against a large botnet and suggests investigating anonymous credentials as one of the techniques. He mentions that during the Zurich lightning event in 2021, the idea of bip154 was discussed but discarded because it wouldn't fit the hashrate capabilities of a large botnet in the real-world scenario of a mobile-first client with constrained CPUs. Antoine also mentions being aware of the Tor scheme for a while.Antoine goes on to talk about his implementation of Privacy Pass, which he calls Staking Credentials. He explains that he is primarily replacing cryptosystems with elliptic curve-based ones, as opposed to blinded RSA like the IETF draft. The credentials are loaded with sats as a user challenge. Antoine is currently working on a Rust implementation that is architecture-agnostic to fit the Lightning Network and Nostr-based services/routing purposes.Antoine expresses his anticipation for a game-theory formalization of the system dynamics. He signs off with \"Best\" and includes links to two resources: one about a reputation credentials proposal to mitigate LN jamming attacks and another about an IETF draft on RSA blind signatures.Overall, Antoine's email covers his work on defending against a botnet, his implementation of Staking Credentials using elliptic curve-based cryptosystems, and his desire for a game-theory formalization of the system dynamics.\n",
              "4  <s><<SYS>>\\nYou are an intelligent assistant.\\n<</SYS>>\\n\\n</s> [INST] ### Input: Suppose you are a programmer and you are enriched by programming knowledge. You will be going through other programmers mail sent to you and you will be extracting all the important information out of the mail and composing a blog post. Even if the mail is divided into parts and parts, your extraction summary should not be in bullet points. It should be in multiple paragraphs. I repeat, never in bullet points. You have to follow some rules while giving a detailed summary. \\n                    The rules are below:\\n                        1. While extracting, avoid using phrases referring to the context. Instead, directly present the information or points covered.  Do not introduce sentences with phrases like: \"The context discusses...\", \"In this context...\" or \"The context covers...\" or \"The context questions...\" etc\\n                        2. The summary tone should be formal and full of information.\\n                        3. Add spaces after using punctuation and follow all the grammatical rules.\\n                        4. Try to retain all the links provided and use them in proper manner at proper place.\\n                        5. The farewell part of the email should be completely ignored.\\n                        6. Ensure that summary is not simply a rephrase of the original content with minor word changes, but a restructured and simplified rendition of the main points.\\n                        7. Most importantly, this extracted information should be relative of the size of the email. If it is a bigger email, the extracted summary can be longer than a very short email. \\n                        Context: Dear Mr Nucleus, and list, Some more points: * Miners in existing Bitcoin are only given the ability to reorder transactions, but not to outright spend funds. This is why drivechains --- and recursive covenants, which, with some additional covenant features (that are more useful in general for covenants), could potentially enable a drivechain-like facility --- are contentious. Drivechains escrow some set of funds to the miners, allowing the miners to vote to outright spend those funds as they please. Now you might say, that if a 51% miner already exists, it can easily censor any transaction, and you would be unable to spend your funds anyway, so would be no different from theft. The difference is that a miner (without drivechains) also cannot spend those funds and thus lowers the incentive to do this, but in addition to that, is the next point. * Miners need to provide a proof external to what they are controlling --- that is, miners can be evicted. Proof-of-work mining means that if a coalition of miners exists which is willing to censor, it is possible, theoretically, for honest non-censoring participants to acquire energy and hardware to perform mining. Indeed there is an incentive to do so --- censored transactions will increase their feerates because of lack of confirmation, and thus, there is incentive for a non-censoring miner to increase their hashrate (possibly from 0 --- every fullnode IS a miner, it is just that most fullnodes have 0 hashrate) in order to get paid the fee. Proof-of-stake cannot evict, because once a coalition of stakers exists, they can censor new staking transactions. Thus, honest participants cannot break into a proof-of-stake scheme that has been captured by a majority of censoring stakers. Your proposed scheme seems much more similar to proof-of-stake in this case. Once a much richer adversary is able to get more than 51% voting rights, by spinning up more capacity than you can it is helpful to remember that in the Real World, a lot of people have\\n\\n\\n                        ### Output: [/INST] In the email, the sender discusses various points related to miners in the Bitcoin network and the contentious nature of drivechains and recursive covenants. The sender explains that existing Bitcoin miners only have the ability to reorder transactions but not to spend funds directly. Drivechains, on the other hand, escrow a set of funds to miners, allowing them to vote and spend those funds as they please. However, this raises concerns as it potentially enables miners to censor transactions.The sender further highlights that miners need to provide proof external to what they are controlling, allowing for the possibility of eviction. Proof-of-work mining incentivizes honest non-censoring participants to acquire energy and hardware to perform mining, as censored transactions will increase their feerates. In contrast, proof-of-stake schemes cannot evict because once a coalition of stakers exists, they can censor new staking transactions. Therefore, honest participants cannot break into a proof-of-stake scheme captured by a majority of censoring stakers.The sender then mentions that the proposed scheme appears similar to proof-of-stake, where a richer adversary could gain more than 51% voting rights by spinning up more capacity. It is important to consider that in the Real World, many people have diverse capabilities.Overall, the email focuses on the role of miners in Bitcoin, the potential implications of drivechains, and the differences between proof-of-work and proof-of-stake mining."
            ],
            "text/html": [
              "\n",
              "  <div id=\"df-e8ab3d86-2ba2-4de7-9eeb-1b052fe95e51\" class=\"colab-df-container\">\n",
              "    <div>\n",
              "<style scoped>\n",
              "    .dataframe tbody tr th:only-of-type {\n",
              "        vertical-align: middle;\n",
              "    }\n",
              "\n",
              "    .dataframe tbody tr th {\n",
              "        vertical-align: top;\n",
              "    }\n",
              "\n",
              "    .dataframe thead th {\n",
              "        text-align: right;\n",
              "    }\n",
              "</style>\n",
              "<table border=\"1\" class=\"dataframe\">\n",
              "  <thead>\n",
              "    <tr style=\"text-align: right;\">\n",
              "      <th></th>\n",
              "      <th>text</th>\n",
              "    </tr>\n",
              "  </thead>\n",
              "  <tbody>\n",
              "    <tr>\n",
              "      <th>0</th>\n",
              "      <td>&lt;s&gt;&lt;&lt;SYS&gt;&gt;\\nYou are an intelligent assistant.\\n&lt;&lt;/SYS&gt;&gt;\\n\\n&lt;/s&gt; [INST] ### Input: Suppose you are a programmer and you are enriched by programming knowledge. You will be going through other programmers mail sent to you and you will be extracting all the important information out of the mail and composing a blog post. Even if the mail is divided into parts and parts, your extraction summary should not be in bullet points. It should be in multiple paragraphs. I repeat, never in bullet points. You have to follow some rules while giving a detailed summary. \\n                    The rules are below:\\n                        1. While extracting, avoid using phrases referring to the context. Instead, directly present the information or points covered.  Do not introduce sentences with phrases like: \"The context discusses...\", \"In this context...\" or \"The context covers...\" or \"The context questions...\" etc\\n                        2. The summary tone should be formal and full of information.\\n                        3. Add spaces after using punctuation and follow all the grammatical rules.\\n                        4. Try to retain all the links provided and use them in proper manner at proper place.\\n                        5. The farewell part of the email should be completely ignored.\\n                        6. Ensure that summary is not simply a rephrase of the original content with minor word changes, but a restructured and simplified rendition of the main points.\\n                        7. Most importantly, this extracted information should be relative of the size of the email. If it is a bigger email, the extracted summary can be longer than a very short email. \\n                        Context: Maybe the anonymous credentials approach from [2] could use credentials loaded with sats?\\n\\n\\n                        ### Output: [/INST] In a recent email, the sender mentioned the possibility of using anonymous credentials loaded with sats as part of the anonymous credentials approach discussed in reference [2]. The idea is to leverage the use of sats (short for satoshis) within the context of anonymous credentials. While the email does not provide further details or explanations, it raises an interesting concept that could potentially enhance the functionality and security of anonymous credentials.Anonymous credentials are a cryptographic tool used to prove certain statements about oneself without revealing any additional information. They enable individuals to authenticate themselves or assert specific attributes without compromising their privacy. The approach proposed in reference [2] explores the use of anonymous credentials in a broader context, possibly in relation to blockchain technology and decentralized systems.By introducing the notion of loading credentials with sats, the email suggests incorporating the use of Bitcoin's smallest unit, satoshis, into the anonymous credentials framework. This integration could offer several advantages, such as increased flexibility and efficiency in transactional processes. However, without further details provided in the email, it is difficult to fully grasp the implications and potential benefits of this approach.It is worth noting that referencing external sources, like reference [2], indicates that there is existing research or documentation on the topic. In this case, it would be beneficial to explore the contents of reference [2] to gain a more comprehensive understanding of the anonymous credentials approach and its potential integration with sats. Unfortunately, the email does not provide any direct links or additional information regarding reference [2].In conclusion, the email briefly touches upon the idea of using anonymous credentials loaded with sats, potentially as part of the approach discussed in reference [2]. While the concept is intriguing, the lack of detailed information limits our understanding of the exact implications and benefits. Further exploration of reference [2] and related literature might shed more light on this topic.</td>\n",
              "    </tr>\n",
              "    <tr>\n",
              "      <th>1</th>\n",
              "      <td>&lt;s&gt;&lt;&lt;SYS&gt;&gt;\\nYou are an intelligent assistant.\\n&lt;&lt;/SYS&gt;&gt;\\n\\n&lt;/s&gt; [INST] ### Input: Suppose you are a programmer and you are enriched by programming knowledge. You will be going through other programmers mail sent to you and you will be extracting all the important information out of the mail and composing a blog post. Even if the mail is divided into parts and parts, your extraction summary should not be in bullet points. It should be in multiple paragraphs. I repeat, never in bullet points. You have to follow some rules while giving a detailed summary. \\n                    The rules are below:\\n                        1. While extracting, avoid using phrases referring to the context. Instead, directly present the information or points covered.  Do not introduce sentences with phrases like: \"The context discusses...\", \"In this context...\" or \"The context covers...\" or \"The context questions...\" etc\\n                        2. The summary tone should be formal and full of information.\\n                        3. Add spaces after using punctuation and follow all the grammatical rules.\\n                        4. Try to retain all the links provided and use them in proper manner at proper place.\\n                        5. The farewell part of the email should be completely ignored.\\n                        6. Ensure that summary is not simply a rephrase of the original content with minor word changes, but a restructured and simplified rendition of the main points.\\n                        7. Most importantly, this extracted information should be relative of the size of the email. If it is a bigger email, the extracted summary can be longer than a very short email. \\n                        Context: Hey Matt, Great work on finding this issue, thoroughly testing it against implementations, and on the follow-up you did after reporting this to the various teams. We all agree that having more people spending time poking at the code to find issues is very beneficial for the project. I hope your work will encourage more people to work on similar research! Protecting p2p networks against DoS vectors is a hard task, and the more eyes on the project, the better. Thanks, Bastien écrit :\\n\\n\\n                        ### Output: [/INST] Matt has been praised for his work in finding an issue, conducting thorough testing, and following up with various teams. The email emphasizes the importance of having more people contribute to finding issues in order to benefit the project. It acknowledges that protecting p2p networks against DoS vectors is challenging and highlights the value of having more people involved in the project.</td>\n",
              "    </tr>\n",
              "    <tr>\n",
              "      <th>2</th>\n",
              "      <td>&lt;s&gt;&lt;&lt;SYS&gt;&gt;\\nYou are an intelligent assistant.\\n&lt;&lt;/SYS&gt;&gt;\\n\\n&lt;/s&gt; [INST] ### Input: Suppose you are a programmer and you are enriched by programming knowledge. You will be going through other programmers mail sent to you and you will be extracting all the important information out of the mail and composing a blog post. Even if the mail is divided into parts and parts, your extraction summary should not be in bullet points. It should be in multiple paragraphs. I repeat, never in bullet points. You have to follow some rules while giving a detailed summary. \\n                    The rules are below:\\n                        1. While extracting, avoid using phrases referring to the context. Instead, directly present the information or points covered.  Do not introduce sentences with phrases like: \"The context discusses...\", \"In this context...\" or \"The context covers...\" or \"The context questions...\" etc\\n                        2. The summary tone should be formal and full of information.\\n                        3. Add spaces after using punctuation and follow all the grammatical rules.\\n                        4. Try to retain all the links provided and use them in proper manner at proper place.\\n                        5. The farewell part of the email should be completely ignored.\\n                        6. Ensure that summary is not simply a rephrase of the original content with minor word changes, but a restructured and simplified rendition of the main points.\\n                        7. Most importantly, this extracted information should be relative of the size of the email. If it is a bigger email, the extracted summary can be longer than a very short email. \\n                        Context: Good morning Mr Nuclear, The major difference here is that for PoW, it is impossible to create a \"sybil attack\" where you only need to spin up multiple nodes on AWS containers, each with its own identity. For PoW, every such node requires its own continuous hashpower; on Lightning, each such node can be generated by simply incrementing a 256-bit number. Thus, the honest majority assumption can **only** be relied on if you have ***some*** sybil-resistance. PoW *is* the sybil-resistance that Bitcoin uses. In short: you can only reason \"I think, therefore I am\", but you cannot from there derive that others exist; you MUST assume that there are only two entities: yourself, and the rest of the universe. Without any sybil-resistance mechanism, it is entirely possible for me to run multiple nodes, then vote you out of your funds. There is a reason why every non-custodial trust-minimized multiparticipant offchain mechanism requires n-of-n. Regards, ZmnSCPxj\\n\\n\\n                        ### Output: [/INST] The email discusses the major difference between Proof of Work (PoW) and Lightning Network in terms of sybil attacks. It explains that for PoW, it is impossible to create a sybil attack by spinning up multiple nodes on AWS containers with their own identity. This is because every node in PoW requires its own continuous hashpower. On the other hand, in Lightning Network, each node can be generated by simply incrementing a 256-bit number.The email emphasizes that the honest majority assumption can only be relied upon if there is some form of sybil-resistance. PoW itself acts as the sybil-resistance mechanism used in Bitcoin. Without any sybil-resistance mechanism, it is entirely possible for someone to run multiple nodes and vote others out of their funds.The author concludes by stating that there is a reason why every non-custodial trust-minimized multiparticipant offchain mechanism requires n-of-n, highlighting the importance of having a sybil-resistance mechanism in place.(Note: The farewell part of the email has been ignored as per the given rules.)</td>\n",
              "    </tr>\n",
              "    <tr>\n",
              "      <th>3</th>\n",
              "      <td>&lt;s&gt;&lt;&lt;SYS&gt;&gt;\\nYou are an intelligent assistant.\\n&lt;&lt;/SYS&gt;&gt;\\n\\n&lt;/s&gt; [INST] ### Input: Suppose you are a programmer and you are enriched by programming knowledge. You will be going through other programmers mail sent to you and you will be extracting all the important information out of the mail and composing a blog post. Even if the mail is divided into parts and parts, your extraction summary should not be in bullet points. It should be in multiple paragraphs. I repeat, never in bullet points. You have to follow some rules while giving a detailed summary. \\n                    The rules are below:\\n                        1. While extracting, avoid using phrases referring to the context. Instead, directly present the information or points covered.  Do not introduce sentences with phrases like: \"The context discusses...\", \"In this context...\" or \"The context covers...\" or \"The context questions...\" etc\\n                        2. The summary tone should be formal and full of information.\\n                        3. Add spaces after using punctuation and follow all the grammatical rules.\\n                        4. Try to retain all the links provided and use them in proper manner at proper place.\\n                        5. The farewell part of the email should be completely ignored.\\n                        6. Ensure that summary is not simply a rephrase of the original content with minor word changes, but a restructured and simplified rendition of the main points.\\n                        7. Most importantly, this extracted information should be relative of the size of the email. If it is a bigger email, the extracted summary can be longer than a very short email. \\n                        Context: Hi Rene, defend against a large botnet and suggest that anonymous credentials [2] among other techniques should be investigated. bip154) was discussed during Zurich lightning event back in 2021, and discarded exactly on this motivation that it wouldn't fit the hashrate capabilities of a large botnet in the real-world of mobile-first client with constrained CPUs. The Tor scheme has been aware on my side since a while. Since then, I've been working on an implementation of Privacy Pass (quoted in the Kadianakis mail) dubbed Staking Credentials [0]. Primarily replacing cryptosystems by elliptic curve based rather than blinded RSA like the IETF draft [1] and with credentials loaded with sats as a user challenge. I'm currently working on a Rust implementation architecture-agnostic to fit the Lightning Network and Nostr-based services/routing purposes [2] [3]. Looking forward to a game-theory formalization of this system dynamics. Best, Antoine https://bitcoinops.org/en/newsletters/2022/11/30/reputation-credentials-proposal-to-mitigate-ln-jamming-attacks https://datatracker.ietf.org/doc/html/draft-irtf-cfrg-rsa-blind-signatures-03 écrit :\\n\\n\\n                        ### Output: [/INST] In the email, Antoine discusses his work on defending against a large botnet and suggests investigating anonymous credentials as one of the techniques. He mentions that during the Zurich lightning event in 2021, the idea of bip154 was discussed but discarded because it wouldn't fit the hashrate capabilities of a large botnet in the real-world scenario of a mobile-first client with constrained CPUs. Antoine also mentions being aware of the Tor scheme for a while.Antoine goes on to talk about his implementation of Privacy Pass, which he calls Staking Credentials. He explains that he is primarily replacing cryptosystems with elliptic curve-based ones, as opposed to blinded RSA like the IETF draft. The credentials are loaded with sats as a user challenge. Antoine is currently working on a Rust implementation that is architecture-agnostic to fit the Lightning Network and Nostr-based services/routing purposes.Antoine expresses his anticipation for a game-theory formalization of the system dynamics. He signs off with \"Best\" and includes links to two resources: one about a reputation credentials proposal to mitigate LN jamming attacks and another about an IETF draft on RSA blind signatures.Overall, Antoine's email covers his work on defending against a botnet, his implementation of Staking Credentials using elliptic curve-based cryptosystems, and his desire for a game-theory formalization of the system dynamics.</td>\n",
              "    </tr>\n",
              "    <tr>\n",
              "      <th>4</th>\n",
              "      <td>&lt;s&gt;&lt;&lt;SYS&gt;&gt;\\nYou are an intelligent assistant.\\n&lt;&lt;/SYS&gt;&gt;\\n\\n&lt;/s&gt; [INST] ### Input: Suppose you are a programmer and you are enriched by programming knowledge. You will be going through other programmers mail sent to you and you will be extracting all the important information out of the mail and composing a blog post. Even if the mail is divided into parts and parts, your extraction summary should not be in bullet points. It should be in multiple paragraphs. I repeat, never in bullet points. You have to follow some rules while giving a detailed summary. \\n                    The rules are below:\\n                        1. While extracting, avoid using phrases referring to the context. Instead, directly present the information or points covered.  Do not introduce sentences with phrases like: \"The context discusses...\", \"In this context...\" or \"The context covers...\" or \"The context questions...\" etc\\n                        2. The summary tone should be formal and full of information.\\n                        3. Add spaces after using punctuation and follow all the grammatical rules.\\n                        4. Try to retain all the links provided and use them in proper manner at proper place.\\n                        5. The farewell part of the email should be completely ignored.\\n                        6. Ensure that summary is not simply a rephrase of the original content with minor word changes, but a restructured and simplified rendition of the main points.\\n                        7. Most importantly, this extracted information should be relative of the size of the email. If it is a bigger email, the extracted summary can be longer than a very short email. \\n                        Context: Dear Mr Nucleus, and list, Some more points: * Miners in existing Bitcoin are only given the ability to reorder transactions, but not to outright spend funds. This is why drivechains --- and recursive covenants, which, with some additional covenant features (that are more useful in general for covenants), could potentially enable a drivechain-like facility --- are contentious. Drivechains escrow some set of funds to the miners, allowing the miners to vote to outright spend those funds as they please. Now you might say, that if a 51% miner already exists, it can easily censor any transaction, and you would be unable to spend your funds anyway, so would be no different from theft. The difference is that a miner (without drivechains) also cannot spend those funds and thus lowers the incentive to do this, but in addition to that, is the next point. * Miners need to provide a proof external to what they are controlling --- that is, miners can be evicted. Proof-of-work mining means that if a coalition of miners exists which is willing to censor, it is possible, theoretically, for honest non-censoring participants to acquire energy and hardware to perform mining. Indeed there is an incentive to do so --- censored transactions will increase their feerates because of lack of confirmation, and thus, there is incentive for a non-censoring miner to increase their hashrate (possibly from 0 --- every fullnode IS a miner, it is just that most fullnodes have 0 hashrate) in order to get paid the fee. Proof-of-stake cannot evict, because once a coalition of stakers exists, they can censor new staking transactions. Thus, honest participants cannot break into a proof-of-stake scheme that has been captured by a majority of censoring stakers. Your proposed scheme seems much more similar to proof-of-stake in this case. Once a much richer adversary is able to get more than 51% voting rights, by spinning up more capacity than you can it is helpful to remember that in the Real World, a lot of people have\\n\\n\\n                        ### Output: [/INST] In the email, the sender discusses various points related to miners in the Bitcoin network and the contentious nature of drivechains and recursive covenants. The sender explains that existing Bitcoin miners only have the ability to reorder transactions but not to spend funds directly. Drivechains, on the other hand, escrow a set of funds to miners, allowing them to vote and spend those funds as they please. However, this raises concerns as it potentially enables miners to censor transactions.The sender further highlights that miners need to provide proof external to what they are controlling, allowing for the possibility of eviction. Proof-of-work mining incentivizes honest non-censoring participants to acquire energy and hardware to perform mining, as censored transactions will increase their feerates. In contrast, proof-of-stake schemes cannot evict because once a coalition of stakers exists, they can censor new staking transactions. Therefore, honest participants cannot break into a proof-of-stake scheme captured by a majority of censoring stakers.The sender then mentions that the proposed scheme appears similar to proof-of-stake, where a richer adversary could gain more than 51% voting rights by spinning up more capacity. It is important to consider that in the Real World, many people have diverse capabilities.Overall, the email focuses on the role of miners in Bitcoin, the potential implications of drivechains, and the differences between proof-of-work and proof-of-stake mining.</td>\n",
              "    </tr>\n",
              "  </tbody>\n",
              "</table>\n",
              "</div>\n",
              "    <div class=\"colab-df-buttons\">\n",
              "\n",
              "  <div class=\"colab-df-container\">\n",
              "    <button class=\"colab-df-convert\" onclick=\"convertToInteractive('df-e8ab3d86-2ba2-4de7-9eeb-1b052fe95e51')\"\n",
              "            title=\"Convert this dataframe to an interactive table.\"\n",
              "            style=\"display:none;\">\n",
              "\n",
              "  <svg xmlns=\"http://www.w3.org/2000/svg\" height=\"24px\" viewBox=\"0 -960 960 960\">\n",
              "    <path d=\"M120-120v-720h720v720H120Zm60-500h600v-160H180v160Zm220 220h160v-160H400v160Zm0 220h160v-160H400v160ZM180-400h160v-160H180v160Zm440 0h160v-160H620v160ZM180-180h160v-160H180v160Zm440 0h160v-160H620v160Z\"/>\n",
              "  </svg>\n",
              "    </button>\n",
              "\n",
              "  <style>\n",
              "    .colab-df-container {\n",
              "      display:flex;\n",
              "      gap: 12px;\n",
              "    }\n",
              "\n",
              "    .colab-df-convert {\n",
              "      background-color: #E8F0FE;\n",
              "      border: none;\n",
              "      border-radius: 50%;\n",
              "      cursor: pointer;\n",
              "      display: none;\n",
              "      fill: #1967D2;\n",
              "      height: 32px;\n",
              "      padding: 0 0 0 0;\n",
              "      width: 32px;\n",
              "    }\n",
              "\n",
              "    .colab-df-convert:hover {\n",
              "      background-color: #E2EBFA;\n",
              "      box-shadow: 0px 1px 2px rgba(60, 64, 67, 0.3), 0px 1px 3px 1px rgba(60, 64, 67, 0.15);\n",
              "      fill: #174EA6;\n",
              "    }\n",
              "\n",
              "    .colab-df-buttons div {\n",
              "      margin-bottom: 4px;\n",
              "    }\n",
              "\n",
              "    [theme=dark] .colab-df-convert {\n",
              "      background-color: #3B4455;\n",
              "      fill: #D2E3FC;\n",
              "    }\n",
              "\n",
              "    [theme=dark] .colab-df-convert:hover {\n",
              "      background-color: #434B5C;\n",
              "      box-shadow: 0px 1px 3px 1px rgba(0, 0, 0, 0.15);\n",
              "      filter: drop-shadow(0px 1px 2px rgba(0, 0, 0, 0.3));\n",
              "      fill: #FFFFFF;\n",
              "    }\n",
              "  </style>\n",
              "\n",
              "    <script>\n",
              "      const buttonEl =\n",
              "        document.querySelector('#df-e8ab3d86-2ba2-4de7-9eeb-1b052fe95e51 button.colab-df-convert');\n",
              "      buttonEl.style.display =\n",
              "        google.colab.kernel.accessAllowed ? 'block' : 'none';\n",
              "\n",
              "      async function convertToInteractive(key) {\n",
              "        const element = document.querySelector('#df-e8ab3d86-2ba2-4de7-9eeb-1b052fe95e51');\n",
              "        const dataTable =\n",
              "          await google.colab.kernel.invokeFunction('convertToInteractive',\n",
              "                                                    [key], {});\n",
              "        if (!dataTable) return;\n",
              "\n",
              "        const docLinkHtml = 'Like what you see? Visit the ' +\n",
              "          '<a target=\"_blank\" href=https://colab.research.google.com/notebooks/data_table.ipynb>data table notebook</a>'\n",
              "          + ' to learn more about interactive tables.';\n",
              "        element.innerHTML = '';\n",
              "        dataTable['output_type'] = 'display_data';\n",
              "        await google.colab.output.renderOutput(dataTable, element);\n",
              "        const docLink = document.createElement('div');\n",
              "        docLink.innerHTML = docLinkHtml;\n",
              "        element.appendChild(docLink);\n",
              "      }\n",
              "    </script>\n",
              "  </div>\n",
              "\n",
              "\n",
              "<div id=\"df-7efea3b5-c1d4-4ace-9891-f65b87c7cf66\">\n",
              "  <button class=\"colab-df-quickchart\" onclick=\"quickchart('df-7efea3b5-c1d4-4ace-9891-f65b87c7cf66')\"\n",
              "            title=\"Suggest charts.\"\n",
              "            style=\"display:none;\">\n",
              "\n",
              "<svg xmlns=\"http://www.w3.org/2000/svg\" height=\"24px\"viewBox=\"0 0 24 24\"\n",
              "     width=\"24px\">\n",
              "    <g>\n",
              "        <path d=\"M19 3H5c-1.1 0-2 .9-2 2v14c0 1.1.9 2 2 2h14c1.1 0 2-.9 2-2V5c0-1.1-.9-2-2-2zM9 17H7v-7h2v7zm4 0h-2V7h2v10zm4 0h-2v-4h2v4z\"/>\n",
              "    </g>\n",
              "</svg>\n",
              "  </button>\n",
              "\n",
              "<style>\n",
              "  .colab-df-quickchart {\n",
              "      --bg-color: #E8F0FE;\n",
              "      --fill-color: #1967D2;\n",
              "      --hover-bg-color: #E2EBFA;\n",
              "      --hover-fill-color: #174EA6;\n",
              "      --disabled-fill-color: #AAA;\n",
              "      --disabled-bg-color: #DDD;\n",
              "  }\n",
              "\n",
              "  [theme=dark] .colab-df-quickchart {\n",
              "      --bg-color: #3B4455;\n",
              "      --fill-color: #D2E3FC;\n",
              "      --hover-bg-color: #434B5C;\n",
              "      --hover-fill-color: #FFFFFF;\n",
              "      --disabled-bg-color: #3B4455;\n",
              "      --disabled-fill-color: #666;\n",
              "  }\n",
              "\n",
              "  .colab-df-quickchart {\n",
              "    background-color: var(--bg-color);\n",
              "    border: none;\n",
              "    border-radius: 50%;\n",
              "    cursor: pointer;\n",
              "    display: none;\n",
              "    fill: var(--fill-color);\n",
              "    height: 32px;\n",
              "    padding: 0;\n",
              "    width: 32px;\n",
              "  }\n",
              "\n",
              "  .colab-df-quickchart:hover {\n",
              "    background-color: var(--hover-bg-color);\n",
              "    box-shadow: 0 1px 2px rgba(60, 64, 67, 0.3), 0 1px 3px 1px rgba(60, 64, 67, 0.15);\n",
              "    fill: var(--button-hover-fill-color);\n",
              "  }\n",
              "\n",
              "  .colab-df-quickchart-complete:disabled,\n",
              "  .colab-df-quickchart-complete:disabled:hover {\n",
              "    background-color: var(--disabled-bg-color);\n",
              "    fill: var(--disabled-fill-color);\n",
              "    box-shadow: none;\n",
              "  }\n",
              "\n",
              "  .colab-df-spinner {\n",
              "    border: 2px solid var(--fill-color);\n",
              "    border-color: transparent;\n",
              "    border-bottom-color: var(--fill-color);\n",
              "    animation:\n",
              "      spin 1s steps(1) infinite;\n",
              "  }\n",
              "\n",
              "  @keyframes spin {\n",
              "    0% {\n",
              "      border-color: transparent;\n",
              "      border-bottom-color: var(--fill-color);\n",
              "      border-left-color: var(--fill-color);\n",
              "    }\n",
              "    20% {\n",
              "      border-color: transparent;\n",
              "      border-left-color: var(--fill-color);\n",
              "      border-top-color: var(--fill-color);\n",
              "    }\n",
              "    30% {\n",
              "      border-color: transparent;\n",
              "      border-left-color: var(--fill-color);\n",
              "      border-top-color: var(--fill-color);\n",
              "      border-right-color: var(--fill-color);\n",
              "    }\n",
              "    40% {\n",
              "      border-color: transparent;\n",
              "      border-right-color: var(--fill-color);\n",
              "      border-top-color: var(--fill-color);\n",
              "    }\n",
              "    60% {\n",
              "      border-color: transparent;\n",
              "      border-right-color: var(--fill-color);\n",
              "    }\n",
              "    80% {\n",
              "      border-color: transparent;\n",
              "      border-right-color: var(--fill-color);\n",
              "      border-bottom-color: var(--fill-color);\n",
              "    }\n",
              "    90% {\n",
              "      border-color: transparent;\n",
              "      border-bottom-color: var(--fill-color);\n",
              "    }\n",
              "  }\n",
              "</style>\n",
              "\n",
              "  <script>\n",
              "    async function quickchart(key) {\n",
              "      const quickchartButtonEl =\n",
              "        document.querySelector('#' + key + ' button');\n",
              "      quickchartButtonEl.disabled = true;  // To prevent multiple clicks.\n",
              "      quickchartButtonEl.classList.add('colab-df-spinner');\n",
              "      try {\n",
              "        const charts = await google.colab.kernel.invokeFunction(\n",
              "            'suggestCharts', [key], {});\n",
              "      } catch (error) {\n",
              "        console.error('Error during call to suggestCharts:', error);\n",
              "      }\n",
              "      quickchartButtonEl.classList.remove('colab-df-spinner');\n",
              "      quickchartButtonEl.classList.add('colab-df-quickchart-complete');\n",
              "    }\n",
              "    (() => {\n",
              "      let quickchartButtonEl =\n",
              "        document.querySelector('#df-7efea3b5-c1d4-4ace-9891-f65b87c7cf66 button');\n",
              "      quickchartButtonEl.style.display =\n",
              "        google.colab.kernel.accessAllowed ? 'block' : 'none';\n",
              "    })();\n",
              "  </script>\n",
              "</div>\n",
              "    </div>\n",
              "  </div>\n"
            ]
          },
          "metadata": {},
          "execution_count": 9
        }
      ]
    },
    {
      "cell_type": "code",
      "source": [
        "train_dataset = Dataset.from_pandas(df)\n",
        "train_dataset[0]"
      ],
      "metadata": {
        "colab": {
          "base_uri": "https://localhost:8080/"
        },
        "id": "XzgoCffOEAoO",
        "outputId": "2abebbf1-bb1b-409c-f634-b4baa89dbfd4"
      },
      "execution_count": null,
      "outputs": [
        {
          "output_type": "execute_result",
          "data": {
            "text/plain": [
              "{'text': '<s><<SYS>>\\nYou are an intelligent assistant.\\n<</SYS>>\\n\\n</s> [INST] ### Input: Suppose you are a programmer and you are enriched by programming knowledge. You will be going through other programmers mail sent to you and you will be extracting all the important information out of the mail and composing a blog post. Even if the mail is divided into parts and parts, your extraction summary should not be in bullet points. It should be in multiple paragraphs. I repeat, never in bullet points. You have to follow some rules while giving a detailed summary. \\n                    The rules are below:\\n                        1. While extracting, avoid using phrases referring to the context. Instead, directly present the information or points covered.  Do not introduce sentences with phrases like: \"The context discusses...\", \"In this context...\" or \"The context covers...\" or \"The context questions...\" etc\\n                        2. The summary tone should be formal and full of information.\\n                        3. Add spaces after using punctuation and follow all the grammatical rules.\\n                        4. Try to retain all the links provided and use them in proper manner at proper place.\\n                        5. The farewell part of the email should be completely ignored.\\n                        6. Ensure that summary is not simply a rephrase of the original content with minor word changes, but a restructured and simplified rendition of the main points.\\n                        7. Most importantly, this extracted information should be relative of the size of the email. If it is a bigger email, the extracted summary can be longer than a very short email. \\n                        Context: Maybe the anonymous credentials approach from [2] could use credentials loaded with sats?\\n\\n\\n                        ### Output: [/INST] In a recent email, the sender mentioned the possibility of using anonymous credentials loaded with sats as part of the anonymous credentials approach discussed in reference [2]. The idea is to leverage the use of sats (short for satoshis) within the context of anonymous credentials. While the email does not provide further details or explanations, it raises an interesting concept that could potentially enhance the functionality and security of anonymous credentials.Anonymous credentials are a cryptographic tool used to prove certain statements about oneself without revealing any additional information. They enable individuals to authenticate themselves or assert specific attributes without compromising their privacy. The approach proposed in reference [2] explores the use of anonymous credentials in a broader context, possibly in relation to blockchain technology and decentralized systems.By introducing the notion of loading credentials with sats, the email suggests incorporating the use of Bitcoin\\'s smallest unit, satoshis, into the anonymous credentials framework. This integration could offer several advantages, such as increased flexibility and efficiency in transactional processes. However, without further details provided in the email, it is difficult to fully grasp the implications and potential benefits of this approach.It is worth noting that referencing external sources, like reference [2], indicates that there is existing research or documentation on the topic. In this case, it would be beneficial to explore the contents of reference [2] to gain a more comprehensive understanding of the anonymous credentials approach and its potential integration with sats. Unfortunately, the email does not provide any direct links or additional information regarding reference [2].In conclusion, the email briefly touches upon the idea of using anonymous credentials loaded with sats, potentially as part of the approach discussed in reference [2]. While the concept is intriguing, the lack of detailed information limits our understanding of the exact implications and benefits. Further exploration of reference [2] and related literature might shed more light on this topic.'}"
            ]
          },
          "metadata": {},
          "execution_count": 10
        }
      ]
    },
    {
      "cell_type": "markdown",
      "source": [
        "### Prepare Model"
      ],
      "metadata": {
        "id": "dPV1Esv4EIda"
      }
    },
    {
      "cell_type": "code",
      "source": [
        "# model.gradient_checkpointing_enable()\n",
        "model = prepare_model_for_kbit_training(model)\n",
        "model"
      ],
      "metadata": {
        "colab": {
          "base_uri": "https://localhost:8080/"
        },
        "id": "i2Yx2ShoEIAG",
        "outputId": "dada453f-a811-4189-9e70-87ad2240e13b"
      },
      "execution_count": null,
      "outputs": [
        {
          "output_type": "execute_result",
          "data": {
            "text/plain": [
              "LlamaForCausalLM(\n",
              "  (model): LlamaModel(\n",
              "    (embed_tokens): Embedding(32000, 4096)\n",
              "    (layers): ModuleList(\n",
              "      (0-31): 32 x LlamaDecoderLayer(\n",
              "        (self_attn): LlamaAttention(\n",
              "          (q_proj): Linear4bit(in_features=4096, out_features=4096, bias=False)\n",
              "          (k_proj): Linear4bit(in_features=4096, out_features=4096, bias=False)\n",
              "          (v_proj): Linear4bit(in_features=4096, out_features=4096, bias=False)\n",
              "          (o_proj): Linear4bit(in_features=4096, out_features=4096, bias=False)\n",
              "          (rotary_emb): LlamaRotaryEmbedding()\n",
              "        )\n",
              "        (mlp): LlamaMLP(\n",
              "          (gate_proj): Linear4bit(in_features=4096, out_features=11008, bias=False)\n",
              "          (up_proj): Linear4bit(in_features=4096, out_features=11008, bias=False)\n",
              "          (down_proj): Linear4bit(in_features=11008, out_features=4096, bias=False)\n",
              "          (act_fn): SiLUActivation()\n",
              "        )\n",
              "        (input_layernorm): LlamaRMSNorm()\n",
              "        (post_attention_layernorm): LlamaRMSNorm()\n",
              "      )\n",
              "    )\n",
              "    (norm): LlamaRMSNorm()\n",
              "  )\n",
              "  (lm_head): Linear(in_features=4096, out_features=32000, bias=False)\n",
              ")"
            ]
          },
          "metadata": {},
          "execution_count": 11
        }
      ]
    },
    {
      "cell_type": "code",
      "source": [
        "# for llama 2 (they need different target module)\n",
        "qlora_config = LoraConfig(\n",
        "    r=1,\n",
        "    lora_alpha=4,  # parameter for scaling\n",
        "    target_modules=['up_proj', 'o_proj', 'q_proj', 'k_proj', 'v_proj', 'gate_proj', 'down_proj'],\n",
        "    lora_dropout=0.1,  # dropout probability for layers\n",
        "    bias=\"none\",\n",
        "    task_type=\"CAUSAL_LM\",\n",
        "    modules_to_save=[\"lm_head\"]\n",
        ")\n",
        "\n",
        "# # Change the LORA hyperparameters accordingly to fit your use case\n",
        "# peft_config = LoraConfig(\n",
        "#     r=128,\n",
        "#     lora_alpha=16,\n",
        "#     target_modules=find_all_linear_names(base_model),\n",
        "#     lora_dropout=0.05,\n",
        "#     bias=\"none\",\n",
        "#     task_type=\"CAUSAL_LM\",\n",
        "#     )\n",
        "\n",
        "base_model = get_peft_model(base_model, peft_config)"
      ],
      "metadata": {
        "colab": {
          "base_uri": "https://localhost:8080/"
        },
        "id": "MBqm_oG8EMDV",
        "outputId": "51c50764-9573-43b3-bfeb-f4b1069f2418"
      },
      "execution_count": null,
      "outputs": [
        {
          "output_type": "stream",
          "name": "stdout",
          "text": [
            "trainable params: 264,642,560 || all params: 6,871,986,176 || trainable%: 3.851034522220785\n"
          ]
        }
      ]
    },
    {
      "cell_type": "code",
      "source": [
        "training_args = TrainingArguments(\n",
        "    output_dir='SFT-llama2-7b',\n",
        "    overwrite_output_dir = True,\n",
        "    warmup_ratio=0.1,\n",
        "    per_device_train_batch_size=8,\n",
        "    per_device_eval_batch_size=16,\n",
        "    num_train_epochs=1,\n",
        "    gradient_accumulation_steps=2,\n",
        "    learning_rate=2e-4,\n",
        "    remove_unused_columns=False,\n",
        "    optim=\"paged_adamw_8bit\",\n",
        "    logging_steps=500,\n",
        "    eval_steps=500,\n",
        "    evaluation_strategy='steps',\n",
        "    load_best_model_at_end=True,\n",
        "    save_total_limit = 1,\n",
        "    fp16=False,\n",
        "    bf16=True,\n",
        "    weight_decay=0.01,\n",
        "    report_to=\"none\",\n",
        ")"
      ],
      "metadata": {
        "id": "kFyuL8q0Ez14"
      },
      "execution_count": null,
      "outputs": []
    },
    {
      "cell_type": "code",
      "source": [
        "trainer = SFTTrainer(\n",
        "    model,\n",
        "    tokenizer=tokenizer,\n",
        "    args=training_args,\n",
        "    train_dataset=train_dataset,\n",
        "    # eval_dataset=test_dataset,\n",
        "    peft_config=qlora_config,\n",
        "    dataset_text_field=\"text\",\n",
        "    max_seq_length=3000,\n",
        "    data_collator=DataCollatorForCompletionOnlyLM(tokenizer=tokenizer,\n",
        "                                                  response_template=\"### Output: \")\n",
        ")"
      ],
      "metadata": {
        "id": "gGKLXxNdE4AG"
      },
      "execution_count": null,
      "outputs": []
    },
    {
      "cell_type": "code",
      "source": [
        "torch.cuda.empty_cache()"
      ],
      "metadata": {
        "id": "uIO-70dRFOaQ"
      },
      "execution_count": null,
      "outputs": []
    },
    {
      "cell_type": "code",
      "source": [
        "model.config.use_cache = False\n",
        "trainer.train()\n",
        "trainer.save_model('llama-v2-fine-tuned')\n",
        "\n",
        "del model\n",
        "\n",
        "gc.collect()\n",
        "torch.cuda.empty_cache()"
      ],
      "metadata": {
        "id": "fskzGYNmFQn-"
      },
      "execution_count": null,
      "outputs": []
    },
    {
      "cell_type": "code",
      "source": [
        "from datetime import datetime\n",
        "datetime.now()"
      ],
      "metadata": {
        "id": "ZRhldqHzFS09"
      },
      "execution_count": null,
      "outputs": []
    },
    {
      "cell_type": "code",
      "source": [],
      "metadata": {
        "id": "OhuH_gh9Fdz3"
      },
      "execution_count": null,
      "outputs": []
    }
  ]
}